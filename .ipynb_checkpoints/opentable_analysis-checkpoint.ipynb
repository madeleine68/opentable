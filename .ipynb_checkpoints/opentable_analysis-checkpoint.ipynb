{
 "cells": [
  {
   "cell_type": "markdown",
   "metadata": {},
   "source": [
    "first we import the required librarires to start our analysis."
   ]
  },
  {
   "cell_type": "code",
   "execution_count": 432,
   "metadata": {},
   "outputs": [],
   "source": [
    "import pandas as pd\n",
    "import matplotlib.pylab as plt\n",
    "import seaborn as sns\n",
    "import os\n",
    "path=os.getcwd()\n",
    "os.chdir(r'/Users/mahdieh/desktop/opentable')"
   ]
  },
  {
   "cell_type": "markdown",
   "metadata": {},
   "source": [
    "now we are going to load our data sets for five different cities using pandas. Using for loop ato save all dataset in one list"
   ]
  },
  {
   "cell_type": "code",
   "execution_count": 309,
   "metadata": {},
   "outputs": [
    {
     "data": {
      "text/plain": [
       "['Philadelphia.csv',\n",
       " 'Phoenix.csv',\n",
       " 'new-york.csv',\n",
       " 'chicago.csv',\n",
       " 'Houston.csv']"
      ]
     },
     "execution_count": 309,
     "metadata": {},
     "output_type": "execute_result"
    }
   ],
   "source": [
    "filenames=[]\n",
    "for file in os.listdir(\"/Users/mahdieh/desktop/opentable\"):\n",
    "    if file.endswith(\".csv\"):\n",
    "        filenames.append(os.path.join(file))\n",
    "filenames"
   ]
  },
  {
   "cell_type": "code",
   "execution_count": 310,
   "metadata": {},
   "outputs": [],
   "source": [
    "#reading all csv files in the file list with loop\n",
    "dataframes=[]\n",
    "for i in filenames:\n",
    "    dataframes.append(pd.read_csv(i))"
   ]
  },
  {
   "cell_type": "markdown",
   "metadata": {},
   "source": [
    "I simply prefer to read them individualy in order to prevent more complication to follow through whole analysis process"
   ]
  },
  {
   "cell_type": "code",
   "execution_count": 345,
   "metadata": {},
   "outputs": [],
   "source": [
    "# to read every file separately\n",
    "df_houston = pd.read_csv(\"Houston.csv\")\n",
    "df_newyork = pd.read_csv(\"new-york.csv\")\n",
    "df_phil = pd.read_csv(\"Philadelphia.csv\")\n",
    "df_phoenix = pd.read_csv(\"Phoenix.csv\")\n",
    "df_chicago = pd.read_csv(\"chicago.csv\")"
   ]
  },
  {
   "cell_type": "markdown",
   "metadata": {},
   "source": [
    "just select the initial 14000 row, we can use as follow, in order to have a same amount of data for all cities"
   ]
  },
  {
   "cell_type": "code",
   "execution_count": 346,
   "metadata": {},
   "outputs": [],
   "source": [
    "df_houston=df_houston[:14000]\n",
    "df_newyork=df_newyork[:14000]\n",
    "df_phil=df_phil[:14000]\n",
    "df_phoenix=df_phoenix[:14000]\n",
    "df_chicago=df_chicago[:14000]"
   ]
  },
  {
   "cell_type": "markdown",
   "metadata": {},
   "source": [
    "to get the grasb of our data , let's take a look at our columns, data and and see the list of headers using head function"
   ]
  },
  {
   "cell_type": "code",
   "execution_count": 347,
   "metadata": {},
   "outputs": [
    {
     "data": {
      "text/plain": [
       "['name', 'bookings', 'rating', 'reviews', 'price', 'cuisine', 'location']"
      ]
     },
     "execution_count": 347,
     "metadata": {},
     "output_type": "execute_result"
    }
   ],
   "source": [
    "list(df_newyork.columns.values)\n",
    "# or simply\n",
    "list(df_newyork)"
   ]
  },
  {
   "cell_type": "code",
   "execution_count": 348,
   "metadata": {},
   "outputs": [
    {
     "data": {
      "text/html": [
       "<div>\n",
       "<style scoped>\n",
       "    .dataframe tbody tr th:only-of-type {\n",
       "        vertical-align: middle;\n",
       "    }\n",
       "\n",
       "    .dataframe tbody tr th {\n",
       "        vertical-align: top;\n",
       "    }\n",
       "\n",
       "    .dataframe thead th {\n",
       "        text-align: right;\n",
       "    }\n",
       "</style>\n",
       "<table border=\"1\" class=\"dataframe\">\n",
       "  <thead>\n",
       "    <tr style=\"text-align: right;\">\n",
       "      <th></th>\n",
       "      <th>name</th>\n",
       "      <th>bookings</th>\n",
       "      <th>rating</th>\n",
       "      <th>reviews</th>\n",
       "      <th>price</th>\n",
       "      <th>cuisine</th>\n",
       "      <th>location</th>\n",
       "    </tr>\n",
       "  </thead>\n",
       "  <tbody>\n",
       "    <tr>\n",
       "      <th>0</th>\n",
       "      <td>The Mermaid Inn Uptown</td>\n",
       "      <td>32.0</td>\n",
       "      <td>4.8 stars out of 5</td>\n",
       "      <td>Exceptional</td>\n",
       "      <td>3</td>\n",
       "      <td>Seafood</td>\n",
       "      <td>Upper West Side</td>\n",
       "    </tr>\n",
       "    <tr>\n",
       "      <th>1</th>\n",
       "      <td>Cafe Du Soleil</td>\n",
       "      <td>74.0</td>\n",
       "      <td>4.4 stars out of 5</td>\n",
       "      <td>Awesome</td>\n",
       "      <td>2</td>\n",
       "      <td>French</td>\n",
       "      <td>Upper West Side</td>\n",
       "    </tr>\n",
       "    <tr>\n",
       "      <th>2</th>\n",
       "      <td>Carmine's - 91st Street - NYC</td>\n",
       "      <td>24.0</td>\n",
       "      <td>4.5 stars out of 5</td>\n",
       "      <td>Awesome</td>\n",
       "      <td>3</td>\n",
       "      <td>Italian</td>\n",
       "      <td>Upper West Side</td>\n",
       "    </tr>\n",
       "    <tr>\n",
       "      <th>3</th>\n",
       "      <td>Nice Matin</td>\n",
       "      <td>14.0</td>\n",
       "      <td>4.5 stars out of 5</td>\n",
       "      <td>Awesome</td>\n",
       "      <td>3</td>\n",
       "      <td>French</td>\n",
       "      <td>Upper West Side</td>\n",
       "    </tr>\n",
       "    <tr>\n",
       "      <th>4</th>\n",
       "      <td>Elea</td>\n",
       "      <td>9.0</td>\n",
       "      <td>4.7 stars out of 5</td>\n",
       "      <td>Exceptional</td>\n",
       "      <td>4</td>\n",
       "      <td>Greek</td>\n",
       "      <td>Upper West Side</td>\n",
       "    </tr>\n",
       "    <tr>\n",
       "      <th>5</th>\n",
       "      <td>Bodrum Turkish Mediterranean</td>\n",
       "      <td>8.0</td>\n",
       "      <td>4.6 stars out of 5</td>\n",
       "      <td>Exceptional</td>\n",
       "      <td>2</td>\n",
       "      <td>Turkish</td>\n",
       "      <td>Upper West Side</td>\n",
       "    </tr>\n",
       "    <tr>\n",
       "      <th>6</th>\n",
       "      <td>French Roast Uptown</td>\n",
       "      <td>10.0</td>\n",
       "      <td>4.5 stars out of 5</td>\n",
       "      <td>Awesome</td>\n",
       "      <td>3</td>\n",
       "      <td>French American</td>\n",
       "      <td>Upper West Side</td>\n",
       "    </tr>\n",
       "    <tr>\n",
       "      <th>7</th>\n",
       "      <td>Trattoria iL Gusto Wine Bar</td>\n",
       "      <td>11.0</td>\n",
       "      <td>4.4 stars out of 5</td>\n",
       "      <td>Awesome</td>\n",
       "      <td>2</td>\n",
       "      <td>Italian</td>\n",
       "      <td>Upper West Side</td>\n",
       "    </tr>\n",
       "    <tr>\n",
       "      <th>8</th>\n",
       "      <td>La Sirene UWS</td>\n",
       "      <td>6.0</td>\n",
       "      <td>4.7 stars out of 5</td>\n",
       "      <td>Exceptional</td>\n",
       "      <td>3</td>\n",
       "      <td>French</td>\n",
       "      <td>Upper West Side</td>\n",
       "    </tr>\n",
       "    <tr>\n",
       "      <th>9</th>\n",
       "      <td>Le Monde</td>\n",
       "      <td>7.0</td>\n",
       "      <td>4.3 stars out of 5</td>\n",
       "      <td>Awesome</td>\n",
       "      <td>2</td>\n",
       "      <td>French</td>\n",
       "      <td>Upper West Side</td>\n",
       "    </tr>\n",
       "  </tbody>\n",
       "</table>\n",
       "</div>"
      ],
      "text/plain": [
       "                            name  bookings              rating      reviews  \\\n",
       "0         The Mermaid Inn Uptown      32.0  4.8 stars out of 5  Exceptional   \n",
       "1                 Cafe Du Soleil      74.0  4.4 stars out of 5      Awesome   \n",
       "2  Carmine's - 91st Street - NYC      24.0  4.5 stars out of 5      Awesome   \n",
       "3                     Nice Matin      14.0  4.5 stars out of 5      Awesome   \n",
       "4                           Elea       9.0  4.7 stars out of 5  Exceptional   \n",
       "5   Bodrum Turkish Mediterranean       8.0  4.6 stars out of 5  Exceptional   \n",
       "6            French Roast Uptown      10.0  4.5 stars out of 5      Awesome   \n",
       "7    Trattoria iL Gusto Wine Bar      11.0  4.4 stars out of 5      Awesome   \n",
       "8                  La Sirene UWS       6.0  4.7 stars out of 5  Exceptional   \n",
       "9                       Le Monde       7.0  4.3 stars out of 5      Awesome   \n",
       "\n",
       "   price          cuisine         location  \n",
       "0      3          Seafood  Upper West Side  \n",
       "1      2           French  Upper West Side  \n",
       "2      3          Italian  Upper West Side  \n",
       "3      3           French  Upper West Side  \n",
       "4      4            Greek  Upper West Side  \n",
       "5      2          Turkish  Upper West Side  \n",
       "6      3  French American  Upper West Side  \n",
       "7      2          Italian  Upper West Side  \n",
       "8      3           French  Upper West Side  \n",
       "9      2           French  Upper West Side  "
      ]
     },
     "execution_count": 348,
     "metadata": {},
     "output_type": "execute_result"
    }
   ],
   "source": [
    "df_newyork.head(10)"
   ]
  },
  {
   "cell_type": "markdown",
   "metadata": {},
   "source": [
    "As we see in the above table, there are 7 columns in our dataset. in order to examine if there are missing value in the data, specially booking column.  it's required a couple of steps to work with missing data are identify and deal missing data and correct data format. To identify missing values we use isnull. the output is a boolean value(i.e. True or False) showing the missing one as True."
   ]
  },
  {
   "cell_type": "code",
   "execution_count": 349,
   "metadata": {},
   "outputs": [
    {
     "data": {
      "text/html": [
       "<div>\n",
       "<style scoped>\n",
       "    .dataframe tbody tr th:only-of-type {\n",
       "        vertical-align: middle;\n",
       "    }\n",
       "\n",
       "    .dataframe tbody tr th {\n",
       "        vertical-align: top;\n",
       "    }\n",
       "\n",
       "    .dataframe thead th {\n",
       "        text-align: right;\n",
       "    }\n",
       "</style>\n",
       "<table border=\"1\" class=\"dataframe\">\n",
       "  <thead>\n",
       "    <tr style=\"text-align: right;\">\n",
       "      <th></th>\n",
       "      <th>name</th>\n",
       "      <th>bookings</th>\n",
       "      <th>rating</th>\n",
       "      <th>reviews</th>\n",
       "      <th>price</th>\n",
       "      <th>cuisine</th>\n",
       "      <th>location</th>\n",
       "    </tr>\n",
       "  </thead>\n",
       "  <tbody>\n",
       "    <tr>\n",
       "      <th>0</th>\n",
       "      <td>False</td>\n",
       "      <td>False</td>\n",
       "      <td>False</td>\n",
       "      <td>False</td>\n",
       "      <td>False</td>\n",
       "      <td>False</td>\n",
       "      <td>False</td>\n",
       "    </tr>\n",
       "    <tr>\n",
       "      <th>1</th>\n",
       "      <td>False</td>\n",
       "      <td>False</td>\n",
       "      <td>False</td>\n",
       "      <td>False</td>\n",
       "      <td>False</td>\n",
       "      <td>False</td>\n",
       "      <td>False</td>\n",
       "    </tr>\n",
       "    <tr>\n",
       "      <th>2</th>\n",
       "      <td>False</td>\n",
       "      <td>False</td>\n",
       "      <td>False</td>\n",
       "      <td>False</td>\n",
       "      <td>False</td>\n",
       "      <td>False</td>\n",
       "      <td>False</td>\n",
       "    </tr>\n",
       "    <tr>\n",
       "      <th>3</th>\n",
       "      <td>False</td>\n",
       "      <td>False</td>\n",
       "      <td>False</td>\n",
       "      <td>False</td>\n",
       "      <td>False</td>\n",
       "      <td>False</td>\n",
       "      <td>False</td>\n",
       "    </tr>\n",
       "    <tr>\n",
       "      <th>4</th>\n",
       "      <td>False</td>\n",
       "      <td>False</td>\n",
       "      <td>False</td>\n",
       "      <td>False</td>\n",
       "      <td>False</td>\n",
       "      <td>False</td>\n",
       "      <td>False</td>\n",
       "    </tr>\n",
       "    <tr>\n",
       "      <th>5</th>\n",
       "      <td>False</td>\n",
       "      <td>False</td>\n",
       "      <td>False</td>\n",
       "      <td>False</td>\n",
       "      <td>False</td>\n",
       "      <td>False</td>\n",
       "      <td>False</td>\n",
       "    </tr>\n",
       "    <tr>\n",
       "      <th>6</th>\n",
       "      <td>False</td>\n",
       "      <td>False</td>\n",
       "      <td>False</td>\n",
       "      <td>False</td>\n",
       "      <td>False</td>\n",
       "      <td>False</td>\n",
       "      <td>False</td>\n",
       "    </tr>\n",
       "    <tr>\n",
       "      <th>7</th>\n",
       "      <td>False</td>\n",
       "      <td>False</td>\n",
       "      <td>False</td>\n",
       "      <td>False</td>\n",
       "      <td>False</td>\n",
       "      <td>False</td>\n",
       "      <td>False</td>\n",
       "    </tr>\n",
       "    <tr>\n",
       "      <th>8</th>\n",
       "      <td>False</td>\n",
       "      <td>False</td>\n",
       "      <td>False</td>\n",
       "      <td>False</td>\n",
       "      <td>False</td>\n",
       "      <td>False</td>\n",
       "      <td>False</td>\n",
       "    </tr>\n",
       "    <tr>\n",
       "      <th>9</th>\n",
       "      <td>False</td>\n",
       "      <td>False</td>\n",
       "      <td>False</td>\n",
       "      <td>False</td>\n",
       "      <td>False</td>\n",
       "      <td>False</td>\n",
       "      <td>False</td>\n",
       "    </tr>\n",
       "  </tbody>\n",
       "</table>\n",
       "</div>"
      ],
      "text/plain": [
       "    name  bookings  rating  reviews  price  cuisine  location\n",
       "0  False     False   False    False  False    False     False\n",
       "1  False     False   False    False  False    False     False\n",
       "2  False     False   False    False  False    False     False\n",
       "3  False     False   False    False  False    False     False\n",
       "4  False     False   False    False  False    False     False\n",
       "5  False     False   False    False  False    False     False\n",
       "6  False     False   False    False  False    False     False\n",
       "7  False     False   False    False  False    False     False\n",
       "8  False     False   False    False  False    False     False\n",
       "9  False     False   False    False  False    False     False"
      ]
     },
     "execution_count": 349,
     "metadata": {},
     "output_type": "execute_result"
    }
   ],
   "source": [
    "missing_data = df_newyork.isnull()\n",
    "missing_data.head(10)"
   ]
  },
  {
   "cell_type": "markdown",
   "metadata": {},
   "source": [
    "## How many missing values are in columns?\n",
    "By using a for loop we can count the missing values in each columns.i.e the number True"
   ]
  },
  {
   "cell_type": "code",
   "execution_count": 350,
   "metadata": {},
   "outputs": [
    {
     "name": "stdout",
     "output_type": "stream",
     "text": [
      "name\n",
      "False    14000\n",
      "Name: name, dtype: int64\n",
      "\n",
      "bookings\n",
      "False    8680\n",
      "True     5320\n",
      "Name: bookings, dtype: int64\n",
      "\n",
      "rating\n",
      "False    13720\n",
      "True       280\n",
      "Name: rating, dtype: int64\n",
      "\n",
      "reviews\n",
      "False    13720\n",
      "True       280\n",
      "Name: reviews, dtype: int64\n",
      "\n",
      "price\n",
      "False    14000\n",
      "Name: price, dtype: int64\n",
      "\n",
      "cuisine\n",
      "False    14000\n",
      "Name: cuisine, dtype: int64\n",
      "\n",
      "location\n",
      "False    14000\n",
      "Name: location, dtype: int64\n",
      "\n"
     ]
    }
   ],
   "source": [
    "#to print the columns headers or \n",
    "#for column in missing_data.columns.values.tolist():\n",
    "for names in list(missing_data):\n",
    "    print(names)\n",
    "    # count the true and false value in each column\n",
    "    print (missing_data[names].value_counts())\n",
    "    print(\"\")"
   ]
  },
  {
   "cell_type": "markdown",
   "metadata": {},
   "source": [
    "it seems there are a quite a lot resturants which are not booked in new year's eve. we can also see the some restaurant does not have any review and rating in opentable website.\n",
    "## Deal with missing data\n",
    "### How to deal with missing data?\n",
    "1. drop the data\n",
    "2. replace the data by means or frequency\n",
    "For booking column we will drop the whole row:\n",
    "Reason: booking is what we want to predict. Any data entry without booking data cannot be used for prediction; therefore any row now without booking data is not useful to us"
   ]
  },
  {
   "cell_type": "code",
   "execution_count": 351,
   "metadata": {},
   "outputs": [],
   "source": [
    "#simply drop whole row with NaN in \"price\" column\n",
    "df_newyork.dropna(subset=[\"bookings\"], axis=0, inplace=True)\n",
    "# reset index, because we droped 5320 rows\n",
    "df_newyork.reset_index(drop=True, inplace=True)"
   ]
  },
  {
   "cell_type": "markdown",
   "metadata": {},
   "source": [
    "let's see if we drop the reatuarants with no booking, how many of them have no reviews or rating."
   ]
  },
  {
   "cell_type": "code",
   "execution_count": 352,
   "metadata": {},
   "outputs": [
    {
     "name": "stdout",
     "output_type": "stream",
     "text": [
      "name\n",
      "False    8680\n",
      "Name: name, dtype: int64\n",
      "\n",
      "bookings\n",
      "False    8680\n",
      "Name: bookings, dtype: int64\n",
      "\n",
      "rating\n",
      "False    8540\n",
      "True      140\n",
      "Name: rating, dtype: int64\n",
      "\n",
      "reviews\n",
      "False    8540\n",
      "True      140\n",
      "Name: reviews, dtype: int64\n",
      "\n",
      "price\n",
      "False    8680\n",
      "Name: price, dtype: int64\n",
      "\n",
      "cuisine\n",
      "False    8680\n",
      "Name: cuisine, dtype: int64\n",
      "\n",
      "location\n",
      "False    8680\n",
      "Name: location, dtype: int64\n",
      "\n"
     ]
    }
   ],
   "source": [
    "missing_data1 = df_newyork.isnull()\n",
    "for names in list(missing_data1):\n",
    "    print(names)\n",
    "    # count the true and false value in each column\n",
    "    print (missing_data1[names].value_counts())\n",
    "    print(\"\")"
   ]
  },
  {
   "cell_type": "markdown",
   "metadata": {},
   "source": [
    "the number of missing value in reviews at first was 280 but now it drops to 140, it shows that 140 restaurant with no reviews and rating had not been booked. It wasnot hard to guess, people will not choose restarant which have no reviews on opentable website. however it's intersting to see that there are 140 restauants with no reviews and rating but still has been booked. we will not removed theses restaurant at this stage, until we see what factors motivate people to book in these location."
   ]
  },
  {
   "cell_type": "code",
   "execution_count": 353,
   "metadata": {},
   "outputs": [
    {
     "data": {
      "text/html": [
       "<div>\n",
       "<style scoped>\n",
       "    .dataframe tbody tr th:only-of-type {\n",
       "        vertical-align: middle;\n",
       "    }\n",
       "\n",
       "    .dataframe tbody tr th {\n",
       "        vertical-align: top;\n",
       "    }\n",
       "\n",
       "    .dataframe thead th {\n",
       "        text-align: right;\n",
       "    }\n",
       "</style>\n",
       "<table border=\"1\" class=\"dataframe\">\n",
       "  <thead>\n",
       "    <tr style=\"text-align: right;\">\n",
       "      <th></th>\n",
       "      <th>name</th>\n",
       "      <th>bookings</th>\n",
       "      <th>rating</th>\n",
       "      <th>reviews</th>\n",
       "      <th>price</th>\n",
       "      <th>cuisine</th>\n",
       "      <th>location</th>\n",
       "    </tr>\n",
       "  </thead>\n",
       "  <tbody>\n",
       "    <tr>\n",
       "      <th>0</th>\n",
       "      <td>The Mermaid Inn Uptown</td>\n",
       "      <td>32.0</td>\n",
       "      <td>4.8 stars out of 5</td>\n",
       "      <td>Exceptional</td>\n",
       "      <td>3</td>\n",
       "      <td>Seafood</td>\n",
       "      <td>Upper West Side</td>\n",
       "    </tr>\n",
       "    <tr>\n",
       "      <th>1</th>\n",
       "      <td>Cafe Du Soleil</td>\n",
       "      <td>74.0</td>\n",
       "      <td>4.4 stars out of 5</td>\n",
       "      <td>Awesome</td>\n",
       "      <td>2</td>\n",
       "      <td>French</td>\n",
       "      <td>Upper West Side</td>\n",
       "    </tr>\n",
       "    <tr>\n",
       "      <th>2</th>\n",
       "      <td>Carmine's - 91st Street - NYC</td>\n",
       "      <td>24.0</td>\n",
       "      <td>4.5 stars out of 5</td>\n",
       "      <td>Awesome</td>\n",
       "      <td>3</td>\n",
       "      <td>Italian</td>\n",
       "      <td>Upper West Side</td>\n",
       "    </tr>\n",
       "    <tr>\n",
       "      <th>3</th>\n",
       "      <td>Nice Matin</td>\n",
       "      <td>14.0</td>\n",
       "      <td>4.5 stars out of 5</td>\n",
       "      <td>Awesome</td>\n",
       "      <td>3</td>\n",
       "      <td>French</td>\n",
       "      <td>Upper West Side</td>\n",
       "    </tr>\n",
       "    <tr>\n",
       "      <th>4</th>\n",
       "      <td>Elea</td>\n",
       "      <td>9.0</td>\n",
       "      <td>4.7 stars out of 5</td>\n",
       "      <td>Exceptional</td>\n",
       "      <td>4</td>\n",
       "      <td>Greek</td>\n",
       "      <td>Upper West Side</td>\n",
       "    </tr>\n",
       "  </tbody>\n",
       "</table>\n",
       "</div>"
      ],
      "text/plain": [
       "                            name  bookings              rating      reviews  \\\n",
       "0         The Mermaid Inn Uptown      32.0  4.8 stars out of 5  Exceptional   \n",
       "1                 Cafe Du Soleil      74.0  4.4 stars out of 5      Awesome   \n",
       "2  Carmine's - 91st Street - NYC      24.0  4.5 stars out of 5      Awesome   \n",
       "3                     Nice Matin      14.0  4.5 stars out of 5      Awesome   \n",
       "4                           Elea       9.0  4.7 stars out of 5  Exceptional   \n",
       "\n",
       "   price  cuisine         location  \n",
       "0      3  Seafood  Upper West Side  \n",
       "1      2   French  Upper West Side  \n",
       "2      3  Italian  Upper West Side  \n",
       "3      3   French  Upper West Side  \n",
       "4      4    Greek  Upper West Side  "
      ]
     },
     "execution_count": 353,
     "metadata": {},
     "output_type": "execute_result"
    }
   ],
   "source": [
    "df_newyork.head()"
   ]
  },
  {
   "cell_type": "markdown",
   "metadata": {},
   "source": [
    "The last step in data cleaning is checking and making sure that all data is in the correct format (int, float, text or other).\n",
    "In Pandas, we use\n",
    "#### .dtype() \n",
    "to check the data type\n",
    "#### .astype()\n",
    "to change the data type\n",
    "Lets list the data types for each column"
   ]
  },
  {
   "cell_type": "code",
   "execution_count": 354,
   "metadata": {},
   "outputs": [
    {
     "data": {
      "text/plain": [
       "name         object\n",
       "bookings    float64\n",
       "rating       object\n",
       "reviews      object\n",
       "price         int64\n",
       "cuisine      object\n",
       "location     object\n",
       "dtype: object"
      ]
     },
     "execution_count": 354,
     "metadata": {},
     "output_type": "execute_result"
    }
   ],
   "source": [
    "df_newyork.dtypes"
   ]
  },
  {
   "cell_type": "markdown",
   "metadata": {},
   "source": [
    "from the rating column , we only need the first string of the value so we are going to remove the rest. we remove the string from the end since 15 charecter from its end are the same for whole rows but not the begining. Also We have to convert data types into a proper format for each column using the \"astype()\" method."
   ]
  },
  {
   "cell_type": "code",
   "execution_count": 355,
   "metadata": {},
   "outputs": [
    {
     "data": {
      "text/plain": [
       "0       4.8\n",
       "1       4.4\n",
       "2       4.5\n",
       "3       4.5\n",
       "4       4.7\n",
       "       ... \n",
       "8675    4.6\n",
       "8676    4.6\n",
       "8677    4.9\n",
       "8678    4.4\n",
       "8679    4.5\n",
       "Name: rating, Length: 8680, dtype: object"
      ]
     },
     "execution_count": 355,
     "metadata": {},
     "output_type": "execute_result"
    }
   ],
   "source": [
    "df_newyork['rating'] = df_newyork['rating'].str.slice(0,-15)\n",
    "df_newyork['rating']"
   ]
  },
  {
   "cell_type": "markdown",
   "metadata": {},
   "source": [
    "Now it's time to change its type to float."
   ]
  },
  {
   "cell_type": "code",
   "execution_count": 356,
   "metadata": {},
   "outputs": [],
   "source": [
    "df_newyork[[\"rating\"]]= df_newyork[[\"rating\"]].astype(\"float\")"
   ]
  },
  {
   "cell_type": "markdown",
   "metadata": {},
   "source": [
    "The column price, at first that we scape the website we convert the  dollar  sign in the website to a number of  sign, number of dollar signs is associated with a price range as follow:\n",
    "\n",
    "*  2 signs  >  $30 and under\n",
    "   \n",
    "*  3 signs  > 31 to 50\n",
    "   \n",
    "*  4 signs > $50 and over\n"
   ]
  },
  {
   "cell_type": "code",
   "execution_count": 357,
   "metadata": {},
   "outputs": [
    {
     "data": {
      "text/html": [
       "<div>\n",
       "<style scoped>\n",
       "    .dataframe tbody tr th:only-of-type {\n",
       "        vertical-align: middle;\n",
       "    }\n",
       "\n",
       "    .dataframe tbody tr th {\n",
       "        vertical-align: top;\n",
       "    }\n",
       "\n",
       "    .dataframe thead th {\n",
       "        text-align: right;\n",
       "    }\n",
       "</style>\n",
       "<table border=\"1\" class=\"dataframe\">\n",
       "  <thead>\n",
       "    <tr style=\"text-align: right;\">\n",
       "      <th></th>\n",
       "      <th>name</th>\n",
       "      <th>bookings</th>\n",
       "      <th>rating</th>\n",
       "      <th>reviews</th>\n",
       "      <th>price</th>\n",
       "      <th>cuisine</th>\n",
       "      <th>location</th>\n",
       "    </tr>\n",
       "  </thead>\n",
       "  <tbody>\n",
       "    <tr>\n",
       "      <th>0</th>\n",
       "      <td>The Mermaid Inn Uptown</td>\n",
       "      <td>32.0</td>\n",
       "      <td>4.8</td>\n",
       "      <td>Exceptional</td>\n",
       "      <td>$31 to 50</td>\n",
       "      <td>Seafood</td>\n",
       "      <td>Upper West Side</td>\n",
       "    </tr>\n",
       "    <tr>\n",
       "      <th>1</th>\n",
       "      <td>Cafe Du Soleil</td>\n",
       "      <td>74.0</td>\n",
       "      <td>4.4</td>\n",
       "      <td>Awesome</td>\n",
       "      <td>$30 and under</td>\n",
       "      <td>French</td>\n",
       "      <td>Upper West Side</td>\n",
       "    </tr>\n",
       "    <tr>\n",
       "      <th>2</th>\n",
       "      <td>Carmine's - 91st Street - NYC</td>\n",
       "      <td>24.0</td>\n",
       "      <td>4.5</td>\n",
       "      <td>Awesome</td>\n",
       "      <td>$31 to 50</td>\n",
       "      <td>Italian</td>\n",
       "      <td>Upper West Side</td>\n",
       "    </tr>\n",
       "    <tr>\n",
       "      <th>3</th>\n",
       "      <td>Nice Matin</td>\n",
       "      <td>14.0</td>\n",
       "      <td>4.5</td>\n",
       "      <td>Awesome</td>\n",
       "      <td>$31 to 50</td>\n",
       "      <td>French</td>\n",
       "      <td>Upper West Side</td>\n",
       "    </tr>\n",
       "    <tr>\n",
       "      <th>4</th>\n",
       "      <td>Elea</td>\n",
       "      <td>9.0</td>\n",
       "      <td>4.7</td>\n",
       "      <td>Exceptional</td>\n",
       "      <td>$50 and over</td>\n",
       "      <td>Greek</td>\n",
       "      <td>Upper West Side</td>\n",
       "    </tr>\n",
       "  </tbody>\n",
       "</table>\n",
       "</div>"
      ],
      "text/plain": [
       "                            name  bookings  rating      reviews  \\\n",
       "0         The Mermaid Inn Uptown      32.0     4.8  Exceptional   \n",
       "1                 Cafe Du Soleil      74.0     4.4      Awesome   \n",
       "2  Carmine's - 91st Street - NYC      24.0     4.5      Awesome   \n",
       "3                     Nice Matin      14.0     4.5      Awesome   \n",
       "4                           Elea       9.0     4.7  Exceptional   \n",
       "\n",
       "           price  cuisine         location  \n",
       "0      $31 to 50  Seafood  Upper West Side  \n",
       "1  $30 and under   French  Upper West Side  \n",
       "2      $31 to 50  Italian  Upper West Side  \n",
       "3      $31 to 50   French  Upper West Side  \n",
       "4   $50 and over    Greek  Upper West Side  "
      ]
     },
     "execution_count": 357,
     "metadata": {},
     "output_type": "execute_result"
    }
   ],
   "source": [
    "#df_newyork[\"price\"]=df_newyork[\"price\"].replace({\"2\": \"$30 and under\", \"3\": \"$31 to $50\", \"4\": \"$50 and over\"},inplace=True)\n",
    "df_newyork['price'].replace(to_replace = [2, 3, 4], \n",
    "                            value =[\"$30 and under\",\"$31 to 50\",\"$50 and over\"], inplace=True)\n",
    "df_newyork.head()"
   ]
  },
  {
   "cell_type": "markdown",
   "metadata": {},
   "source": [
    "### How much the price of food have effect on thr number of booking?"
   ]
  },
  {
   "cell_type": "code",
   "execution_count": 368,
   "metadata": {},
   "outputs": [
    {
     "data": {
      "text/plain": [
       "Text(0.5, 1.0, 'Number of restaurant booked in price range')"
      ]
     },
     "execution_count": 368,
     "metadata": {},
     "output_type": "execute_result"
    },
    {
     "data": {
      "image/png": "[encoded data removed]",
      "text/plain": [
       "<Figure size 432x288 with 1 Axes>"
      ]
     },
     "metadata": {
      "needs_background": "light"
     },
     "output_type": "display_data"
    }
   ],
   "source": [
    "%matplotlib inline\n",
    "import matplotlib as plt\n",
    "from matplotlib import pyplot\n",
    "group_name=[\"$30 and under\",\"$31 to 50\",\"$50 and over\"]\n",
    "pyplot.bar(group_name, df_newyork[\"price\"].value_counts(), color=['orange', 'yellowgreen', 'lightskyblue'])\n",
    "\n",
    "# set x/y labels and plot title\n",
    "plt.pyplot.xlabel(\"price\")\n",
    "plt.pyplot.ylabel(\"count\")\n",
    "plt.pyplot.title(\"Number of restaurant booked in price range\")"
   ]
  },
  {
   "cell_type": "markdown",
   "metadata": {},
   "source": [
    "It's better to see it's percentage in the pie chart."
   ]
  },
  {
   "cell_type": "code",
   "execution_count": 371,
   "metadata": {},
   "outputs": [
    {
     "data": {
      "image/png": "[encoded data removed]",
      "text/plain": [
       "<Figure size 432x288 with 1 Axes>"
      ]
     },
     "metadata": {},
     "output_type": "display_data"
    }
   ],
   "source": [
    "price_percentage=(df_newyork[\"price\"].value_counts(normalize=True) * 100).round()\n",
    "# Data to plot\n",
    "labels = group_name\n",
    "sizes = price_percentage\n",
    "colors = ['orange', 'yellowgreen', 'lightskyblue']\n",
    "explode = (0, 0, 0.1)  # explode 1st slice\n",
    "\n",
    "# Plot\n",
    "plt.pie(sizes, explode=explode, labels=labels, colors=colors,\n",
    "autopct='%1.1f%%', shadow=True, startangle=140)\n",
    "\n",
    "plt.axis('equal')\n",
    "plt.show()"
   ]
  },
  {
   "cell_type": "markdown",
   "metadata": {},
   "source": [
    "it's seems to that the the expensive retearants have lower popularity. does the review abscenties are related to expensive one? Let's see."
   ]
  },
  {
   "cell_type": "code",
   "execution_count": 414,
   "metadata": {},
   "outputs": [
    {
     "data": {
      "text/plain": [
       "0           $31 to 50\n",
       "1       $30 and under\n",
       "2           $31 to 50\n",
       "3           $31 to 50\n",
       "4        $50 and over\n",
       "            ...      \n",
       "8675    $30 and under\n",
       "8676        $31 to 50\n",
       "8677     $50 and over\n",
       "8678        $31 to 50\n",
       "8679        $31 to 50\n",
       "Name: new, Length: 8680, dtype: object"
      ]
     },
     "execution_count": 414,
     "metadata": {},
     "output_type": "execute_result"
    }
   ],
   "source": [
    "\n",
    "#df_newyork.loc[df_newyork['reviews'] == 'Na', df_newyork[\"price\"]]\n",
    "\n",
    "df_newyork['new'] = df_newyork['new'].where(df_newyork['rating'].isnull(), df_newyork['price'] )\n",
    "df_newyork['new']"
   ]
  },
  {
   "cell_type": "code",
   "execution_count": 455,
   "metadata": {},
   "outputs": [],
   "source": [
    "#Stripping all text\n",
    "df_newyork.reviews = df_newyork.reviews.str.strip().str.lower()\n",
    "df_newyork.cuisine = df_newyork.cuisine.str.strip().str.lower()\n",
    "df_newyork.location =df_newyork.location.str.strip().str.lower()\n",
    "df_newyork.name = df_newyork.name.str.strip().str.lower()\n",
    "\n",
    "\n",
    "# Cleaning rating\n",
    "#opentable.rating = opentable.rating.str.extract(r'(\\d.?\\d?) stars out of 5')\n",
    "#opentable.rating = opentable.rating.apply(lambda row: ((float(row) - 3)/2)* 100,)\n",
    "\n",
    "#cleaning cost\n",
    "# where 1 = $30 and under 2 = $31-50 and 3 = $50 and over\n",
    "#opentable.cost = opentable.cost.str.replace('[ \\t]','')\n",
    "#opentable.cost = opentable.cost.apply(len)\n",
    "#opentable.cost = opentable.cost.apply(lambda x: '\\$30 and under' if (x == 2) else\\('\\$31 to \\$50' if (x == 3) else '\\$50 and up'))"
   ]
  },
  {
   "cell_type": "code",
   "execution_count": 467,
   "metadata": {},
   "outputs": [
    {
     "ename": "SyntaxError",
     "evalue": "EOL while scanning string literal (<ipython-input-467-43b4bbf9c479>, line 4)",
     "output_type": "error",
     "traceback": [
      "\u001b[0;36m  File \u001b[0;32m\"<ipython-input-467-43b4bbf9c479>\"\u001b[0;36m, line \u001b[0;32m4\u001b[0m\n\u001b[0;31m    if  i.isnull()>0\":\u001b[0m\n\u001b[0m                      ^\u001b[0m\n\u001b[0;31mSyntaxError\u001b[0m\u001b[0;31m:\u001b[0m EOL while scanning string literal\n"
     ]
    }
   ],
   "source": [
    "a=[]\n",
    "\n",
    "for i in df_newyork[\"rating\"]:\n",
    "    if  i.isnull()>0\":\n",
    "        print (i)\n",
    "        #a.append(df_newyork['price'][i])\n",
    "   "
   ]
  },
  {
   "cell_type": "code",
   "execution_count": 458,
   "metadata": {},
   "outputs": [
    {
     "data": {
      "text/plain": [
       "4.8"
      ]
     },
     "execution_count": 458,
     "metadata": {},
     "output_type": "execute_result"
    }
   ],
   "source": [
    "df_newyork[\"rating\"][0]"
   ]
  },
  {
   "cell_type": "code",
   "execution_count": null,
   "metadata": {},
   "outputs": [],
   "source": []
  }
 ],
 "metadata": {
  "kernelspec": {
   "display_name": "Python 3",
   "language": "python",
   "name": "python3"
  },
  "language_info": {
   "codemirror_mode": {
    "name": "ipython",
    "version": 3
   },
   "file_extension": ".py",
   "mimetype": "text/x-python",
   "name": "python",
   "nbconvert_exporter": "python",
   "pygments_lexer": "ipython3",
   "version": "3.8.5"
  }
 },
 "nbformat": 4,
 "nbformat_minor": 4
}
